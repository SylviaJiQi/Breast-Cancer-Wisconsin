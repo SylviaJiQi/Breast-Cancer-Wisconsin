{
 "cells": [
  {
   "cell_type": "code",
   "execution_count": 1,
   "metadata": {},
   "outputs": [],
   "source": [
    "import numpy as np\n",
    "import pandas as pd"
   ]
  },
  {
   "cell_type": "code",
   "execution_count": 2,
   "metadata": {},
   "outputs": [],
   "source": [
    "import matplotlib.pyplot as plt\n",
    "import seaborn as sns\n",
    "%matplotlib inline"
   ]
  },
  {
   "cell_type": "markdown",
   "metadata": {},
   "source": [
    "##### Reading in data from txt file"
   ]
  },
  {
   "cell_type": "code",
   "execution_count": 3,
   "metadata": {},
   "outputs": [],
   "source": [
    "columns = ['id','clump_thickness','uniformity_size','uniformity_shape','marginal_adhesion','single_epithelial_cell_size','bare_nuclei','bland_chromatin','normmal_nucleoli','mitoses','class']"
   ]
  },
  {
   "cell_type": "code",
   "execution_count": 4,
   "metadata": {},
   "outputs": [],
   "source": [
    "df = pd.read_csv('breast-cancer-wisconsin.data.txt',header=None)"
   ]
  },
  {
   "cell_type": "code",
   "execution_count": 5,
   "metadata": {},
   "outputs": [],
   "source": [
    "df.columns = columns"
   ]
  },
  {
   "cell_type": "markdown",
   "metadata": {},
   "source": [
    "### Data description"
   ]
  },
  {
   "cell_type": "markdown",
   "metadata": {},
   "source": [
    "\n",
    "   ###  Attribute                     Domain\n",
    "   -- -----------------------------------------\n",
    "   1. Sample code number            id number\n",
    "   2. Clump Thickness               1 - 10\n",
    "   3. Uniformity of Cell Size       1 - 10\n",
    "   4. Uniformity of Cell Shape      1 - 10\n",
    "   5. Marginal Adhesion             1 - 10\n",
    "   6. Single Epithelial Cell Size   1 - 10\n",
    "   7. Bare Nuclei                   1 - 10\n",
    "   8. Bland Chromatin               1 - 10\n",
    "   9. Normal Nucleoli               1 - 10\n",
    "  10. Mitoses                       1 - 10\n",
    "  11. Class:                        (2 for benign, 4 for malignant)\n",
    "  \n",
    "5. Number of Instances: 699 (as of 15 July 1992)\n",
    "\n",
    "6. Number of Attributes: 10 plus the class attribute\n",
    "\n",
    "8. Missing attribute values: 16\n",
    "\n",
    "   There are 16 instances in Groups 1 to 6 that contain a single missing \n",
    "   (i.e., unavailable) attribute value, now denoted by \"?\".  \n",
    "\n",
    "9. Class distribution:\n",
    " \n",
    "   Benign: 458 (65.5%)\n",
    "   Malignant: 241 (34.5%)"
   ]
  },
  {
   "cell_type": "code",
   "execution_count": 34,
   "metadata": {},
   "outputs": [
    {
     "name": "stdout",
     "output_type": "stream",
     "text": [
      "<class 'pandas.core.frame.DataFrame'>\n",
      "RangeIndex: 699 entries, 0 to 698\n",
      "Data columns (total 11 columns):\n",
      "id                             699 non-null int64\n",
      "clump_thickness                699 non-null int64\n",
      "uniformity_size                699 non-null int64\n",
      "uniformity_shape               699 non-null int64\n",
      "marginal_adhesion              699 non-null int64\n",
      "single_epithelial_cell_size    699 non-null int64\n",
      "bare_nuclei                    699 non-null object\n",
      "bland_chromatin                699 non-null int64\n",
      "normmal_nucleoli               699 non-null int64\n",
      "Mitoses                        699 non-null int64\n",
      "class                          699 non-null int64\n",
      "dtypes: int64(10), object(1)\n",
      "memory usage: 60.1+ KB\n"
     ]
    }
   ],
   "source": [
    "df.info()"
   ]
  },
  {
   "cell_type": "code",
   "execution_count": 36,
   "metadata": {},
   "outputs": [
    {
     "data": {
      "text/html": [
       "<div>\n",
       "<style scoped>\n",
       "    .dataframe tbody tr th:only-of-type {\n",
       "        vertical-align: middle;\n",
       "    }\n",
       "\n",
       "    .dataframe tbody tr th {\n",
       "        vertical-align: top;\n",
       "    }\n",
       "\n",
       "    .dataframe thead th {\n",
       "        text-align: right;\n",
       "    }\n",
       "</style>\n",
       "<table border=\"1\" class=\"dataframe\">\n",
       "  <thead>\n",
       "    <tr style=\"text-align: right;\">\n",
       "      <th></th>\n",
       "      <th>id</th>\n",
       "      <th>clump_thickness</th>\n",
       "      <th>uniformity_size</th>\n",
       "      <th>uniformity_shape</th>\n",
       "      <th>marginal_adhesion</th>\n",
       "      <th>single_epithelial_cell_size</th>\n",
       "      <th>bare_nuclei</th>\n",
       "      <th>bland_chromatin</th>\n",
       "      <th>normmal_nucleoli</th>\n",
       "      <th>Mitoses</th>\n",
       "      <th>class</th>\n",
       "    </tr>\n",
       "  </thead>\n",
       "  <tbody>\n",
       "    <tr>\n",
       "      <th>0</th>\n",
       "      <td>1000025</td>\n",
       "      <td>5</td>\n",
       "      <td>1</td>\n",
       "      <td>1</td>\n",
       "      <td>1</td>\n",
       "      <td>2</td>\n",
       "      <td>1</td>\n",
       "      <td>3</td>\n",
       "      <td>1</td>\n",
       "      <td>1</td>\n",
       "      <td>2</td>\n",
       "    </tr>\n",
       "    <tr>\n",
       "      <th>1</th>\n",
       "      <td>1002945</td>\n",
       "      <td>5</td>\n",
       "      <td>4</td>\n",
       "      <td>4</td>\n",
       "      <td>5</td>\n",
       "      <td>7</td>\n",
       "      <td>10</td>\n",
       "      <td>3</td>\n",
       "      <td>2</td>\n",
       "      <td>1</td>\n",
       "      <td>2</td>\n",
       "    </tr>\n",
       "    <tr>\n",
       "      <th>2</th>\n",
       "      <td>1015425</td>\n",
       "      <td>3</td>\n",
       "      <td>1</td>\n",
       "      <td>1</td>\n",
       "      <td>1</td>\n",
       "      <td>2</td>\n",
       "      <td>2</td>\n",
       "      <td>3</td>\n",
       "      <td>1</td>\n",
       "      <td>1</td>\n",
       "      <td>2</td>\n",
       "    </tr>\n",
       "    <tr>\n",
       "      <th>3</th>\n",
       "      <td>1016277</td>\n",
       "      <td>6</td>\n",
       "      <td>8</td>\n",
       "      <td>8</td>\n",
       "      <td>1</td>\n",
       "      <td>3</td>\n",
       "      <td>4</td>\n",
       "      <td>3</td>\n",
       "      <td>7</td>\n",
       "      <td>1</td>\n",
       "      <td>2</td>\n",
       "    </tr>\n",
       "    <tr>\n",
       "      <th>4</th>\n",
       "      <td>1017023</td>\n",
       "      <td>4</td>\n",
       "      <td>1</td>\n",
       "      <td>1</td>\n",
       "      <td>3</td>\n",
       "      <td>2</td>\n",
       "      <td>1</td>\n",
       "      <td>3</td>\n",
       "      <td>1</td>\n",
       "      <td>1</td>\n",
       "      <td>2</td>\n",
       "    </tr>\n",
       "  </tbody>\n",
       "</table>\n",
       "</div>"
      ],
      "text/plain": [
       "        id  clump_thickness  uniformity_size  uniformity_shape  \\\n",
       "0  1000025                5                1                 1   \n",
       "1  1002945                5                4                 4   \n",
       "2  1015425                3                1                 1   \n",
       "3  1016277                6                8                 8   \n",
       "4  1017023                4                1                 1   \n",
       "\n",
       "   marginal_adhesion  single_epithelial_cell_size bare_nuclei  \\\n",
       "0                  1                            2           1   \n",
       "1                  5                            7          10   \n",
       "2                  1                            2           2   \n",
       "3                  1                            3           4   \n",
       "4                  3                            2           1   \n",
       "\n",
       "   bland_chromatin  normmal_nucleoli  Mitoses  class  \n",
       "0                3                 1        1      2  \n",
       "1                3                 2        1      2  \n",
       "2                3                 1        1      2  \n",
       "3                3                 7        1      2  \n",
       "4                3                 1        1      2  "
      ]
     },
     "execution_count": 36,
     "metadata": {},
     "output_type": "execute_result"
    }
   ],
   "source": [
    "df.head(5)"
   ]
  },
  {
   "cell_type": "code",
   "execution_count": 6,
   "metadata": {},
   "outputs": [
    {
     "data": {
      "text/plain": [
       "(array([ 23,  40, 139, 145, 158, 164, 235, 249, 275, 292, 294, 297, 315,\n",
       "        321, 411, 617]),)"
      ]
     },
     "execution_count": 6,
     "metadata": {},
     "output_type": "execute_result"
    }
   ],
   "source": [
    "# Remove absent values\n",
    "np.where(df['bare_nuclei'].values == '?')"
   ]
  },
  {
   "cell_type": "code",
   "execution_count": 7,
   "metadata": {},
   "outputs": [
    {
     "data": {
      "text/plain": [
       "16"
      ]
     },
     "execution_count": 7,
     "metadata": {},
     "output_type": "execute_result"
    }
   ],
   "source": [
    "len(np.where(df['bare_nuclei'].values == '?')[0])"
   ]
  },
  {
   "cell_type": "code",
   "execution_count": 8,
   "metadata": {},
   "outputs": [
    {
     "data": {
      "text/plain": [
       "array([2, 4])"
      ]
     },
     "execution_count": 8,
     "metadata": {},
     "output_type": "execute_result"
    }
   ],
   "source": [
    "# double check how many classes \n",
    "np.unique(df['class'])"
   ]
  },
  {
   "cell_type": "markdown",
   "metadata": {},
   "source": [
    "### Exploratory Data Analysis"
   ]
  },
  {
   "cell_type": "code",
   "execution_count": 11,
   "metadata": {},
   "outputs": [],
   "source": [
    "df1 = df.copy()"
   ]
  },
  {
   "cell_type": "code",
   "execution_count": 12,
   "metadata": {},
   "outputs": [],
   "source": [
    "df1 = df1.drop(np.where(df['bare_nuclei'].values == '?')[0],axis = 0)"
   ]
  },
  {
   "cell_type": "code",
   "execution_count": 14,
   "metadata": {},
   "outputs": [],
   "source": [
    "df1 = df1.astype(int)"
   ]
  },
  {
   "cell_type": "code",
   "execution_count": 209,
   "metadata": {},
   "outputs": [
    {
     "data": {
      "text/plain": [
       "683"
      ]
     },
     "execution_count": 209,
     "metadata": {},
     "output_type": "execute_result"
    }
   ],
   "source": [
    "len(df1)"
   ]
  },
  {
   "cell_type": "code",
   "execution_count": 210,
   "metadata": {},
   "outputs": [
    {
     "data": {
      "image/png": "[encoded data removed]",
      "text/plain": [
       "<matplotlib.figure.Figure at 0x7f89047e0f60>"
      ]
     },
     "metadata": {},
     "output_type": "display_data"
    }
   ],
   "source": [
    "plt.figure(figsize = (6,10))\n",
    "sns.boxplot(data = df1.iloc[:,1:],orient = 'h')\n",
    "sns.set(font_scale=1.5)"
   ]
  },
  {
   "cell_type": "code",
   "execution_count": 80,
   "metadata": {},
   "outputs": [
    {
     "data": {
      "text/plain": [
       "<matplotlib.axes._subplots.AxesSubplot at 0x7f5e42b8bef0>"
      ]
     },
     "execution_count": 80,
     "metadata": {},
     "output_type": "execute_result"
    },
    {
     "data": {
      "image/png": "[encoded data removed]",
      "text/plain": [
       "<matplotlib.figure.Figure at 0x7f5e42bbaa58>"
      ]
     },
     "metadata": {},
     "output_type": "display_data"
    }
   ],
   "source": [
    "sns.distplot(df1['Mitoses'],kde = False)"
   ]
  },
  {
   "cell_type": "code",
   "execution_count": 169,
   "metadata": {},
   "outputs": [
    {
     "data": {
      "text/plain": [
       "<seaborn.axisgrid.JointGrid at 0x7f890510f358>"
      ]
     },
     "execution_count": 169,
     "metadata": {},
     "output_type": "execute_result"
    },
    {
     "data": {
      "image/png": "[encoded data removed]",
      "text/plain": [
       "<matplotlib.figure.Figure at 0x7f890510f940>"
      ]
     },
     "metadata": {},
     "output_type": "display_data"
    }
   ],
   "source": [
    "sns.jointplot(x='bare_nuclei',y='normmal_nucleoli',data=df1,kind = 'reg')"
   ]
  },
  {
   "cell_type": "code",
   "execution_count": 168,
   "metadata": {
    "scrolled": false
   },
   "outputs": [
    {
     "data": {
      "text/plain": [
       "<seaborn.axisgrid.JointGrid at 0x7f89052fff98>"
      ]
     },
     "execution_count": 168,
     "metadata": {},
     "output_type": "execute_result"
    },
    {
     "data": {
      "image/png": "[encoded data removed]",
      "text/plain": [
       "<matplotlib.figure.Figure at 0x7f89051da390>"
      ]
     },
     "metadata": {},
     "output_type": "display_data"
    }
   ],
   "source": [
    "sns.jointplot(x='uniformity_size',y='normmal_nucleoli',data=df1,kind = 'reg')"
   ]
  },
  {
   "cell_type": "code",
   "execution_count": 175,
   "metadata": {},
   "outputs": [
    {
     "data": {
      "text/plain": [
       "<seaborn.axisgrid.JointGrid at 0x7f8904dbb320>"
      ]
     },
     "execution_count": 175,
     "metadata": {},
     "output_type": "execute_result"
    },
    {
     "data": {
      "image/png": "[encoded data removed]",
      "text/plain": [
       "<matplotlib.figure.Figure at 0x7f8904dbb518>"
      ]
     },
     "metadata": {},
     "output_type": "display_data"
    }
   ],
   "source": [
    "sns.jointplot(x='uniformity_shape',y='uniformity_size',data=df1,kind = 'reg')"
   ]
  },
  {
   "cell_type": "markdown",
   "metadata": {},
   "source": [
    "### Prepare data for classification"
   ]
  },
  {
   "cell_type": "code",
   "execution_count": 10,
   "metadata": {},
   "outputs": [],
   "source": [
    "from sklearn.preprocessing import StandardScaler\n",
    "from sklearn.model_selection import train_test_split,GridSearchCV,KFold\n",
    "from sklearn.svm import LinearSVC,SVC\n",
    "from sklearn import metrics\n",
    "from sklearn.ensemble import RandomForestClassifier"
   ]
  },
  {
   "cell_type": "code",
   "execution_count": 78,
   "metadata": {},
   "outputs": [],
   "source": [
    "from sklearn.model_selection import cross_val_score"
   ]
  },
  {
   "cell_type": "code",
   "execution_count": 16,
   "metadata": {},
   "outputs": [],
   "source": [
    "X = df1.iloc[:,1:-1].values\n",
    "y = df1.iloc[:,-1].values"
   ]
  },
  {
   "cell_type": "code",
   "execution_count": 91,
   "metadata": {},
   "outputs": [
    {
     "name": "stderr",
     "output_type": "stream",
     "text": [
      "/home/miracle/anaconda3/lib/python3.6/site-packages/sklearn/utils/validation.py:475: DataConversionWarning: Data with input dtype int64 was converted to float64 by StandardScaler.\n",
      "  warnings.warn(msg, DataConversionWarning)\n"
     ]
    }
   ],
   "source": [
    "scaler = StandardScaler()\n",
    "scaler.fit(X)\n",
    "X_norm = scaler.transform(X)"
   ]
  },
  {
   "cell_type": "code",
   "execution_count": 105,
   "metadata": {},
   "outputs": [],
   "source": [
    "X_train,X_test,y_train,y_test = train_test_split(X_norm,y,test_size = 0.3, random_state = 101)"
   ]
  },
  {
   "cell_type": "markdown",
   "metadata": {},
   "source": [
    "### SVM Classifier"
   ]
  },
  {
   "cell_type": "code",
   "execution_count": 112,
   "metadata": {},
   "outputs": [],
   "source": [
    "param_grid = {'C': [0.1,1, 10, 100, 1000], 'gamma': [1,0.1,0.01,0.001,0.0001], 'kernel': ['linear']} \n",
    "grid = GridSearchCV(SVC(probability=True),param_grid,refit=True,verbose=1,cv = 10)"
   ]
  },
  {
   "cell_type": "code",
   "execution_count": 113,
   "metadata": {},
   "outputs": [
    {
     "name": "stdout",
     "output_type": "stream",
     "text": [
      "Fitting 10 folds for each of 25 candidates, totalling 250 fits\n"
     ]
    },
    {
     "name": "stderr",
     "output_type": "stream",
     "text": [
      "[Parallel(n_jobs=1)]: Done 250 out of 250 | elapsed:  1.4min finished\n"
     ]
    },
    {
     "data": {
      "text/plain": [
       "GridSearchCV(cv=10, error_score='raise',\n",
       "       estimator=SVC(C=1.0, cache_size=200, class_weight=None, coef0=0.0,\n",
       "  decision_function_shape='ovr', degree=3, gamma='auto', kernel='rbf',\n",
       "  max_iter=-1, probability=True, random_state=None, shrinking=True,\n",
       "  tol=0.001, verbose=False),\n",
       "       fit_params=None, iid=True, n_jobs=1,\n",
       "       param_grid={'C': [0.1, 1, 10, 100, 1000], 'gamma': [1, 0.1, 0.01, 0.001, 0.0001], 'kernel': ['linear']},\n",
       "       pre_dispatch='2*n_jobs', refit=True, return_train_score='warn',\n",
       "       scoring=None, verbose=1)"
      ]
     },
     "execution_count": 113,
     "metadata": {},
     "output_type": "execute_result"
    }
   ],
   "source": [
    "grid.fit(X_norm,y)"
   ]
  },
  {
   "cell_type": "code",
   "execution_count": 114,
   "metadata": {},
   "outputs": [
    {
     "name": "stderr",
     "output_type": "stream",
     "text": [
      "/home/miracle/anaconda3/lib/python3.6/site-packages/sklearn/utils/deprecation.py:122: FutureWarning: You are accessing a training score ('mean_train_score'), which will not be available by default any more in 0.21. If you need training scores, please set return_train_score=True\n",
      "  warnings.warn(*warn_args, **warn_kwargs)\n",
      "/home/miracle/anaconda3/lib/python3.6/site-packages/sklearn/utils/deprecation.py:122: FutureWarning: You are accessing a training score ('split0_train_score'), which will not be available by default any more in 0.21. If you need training scores, please set return_train_score=True\n",
      "  warnings.warn(*warn_args, **warn_kwargs)\n",
      "/home/miracle/anaconda3/lib/python3.6/site-packages/sklearn/utils/deprecation.py:122: FutureWarning: You are accessing a training score ('split1_train_score'), which will not be available by default any more in 0.21. If you need training scores, please set return_train_score=True\n",
      "  warnings.warn(*warn_args, **warn_kwargs)\n",
      "/home/miracle/anaconda3/lib/python3.6/site-packages/sklearn/utils/deprecation.py:122: FutureWarning: You are accessing a training score ('split2_train_score'), which will not be available by default any more in 0.21. If you need training scores, please set return_train_score=True\n",
      "  warnings.warn(*warn_args, **warn_kwargs)\n",
      "/home/miracle/anaconda3/lib/python3.6/site-packages/sklearn/utils/deprecation.py:122: FutureWarning: You are accessing a training score ('split3_train_score'), which will not be available by default any more in 0.21. If you need training scores, please set return_train_score=True\n",
      "  warnings.warn(*warn_args, **warn_kwargs)\n",
      "/home/miracle/anaconda3/lib/python3.6/site-packages/sklearn/utils/deprecation.py:122: FutureWarning: You are accessing a training score ('split4_train_score'), which will not be available by default any more in 0.21. If you need training scores, please set return_train_score=True\n",
      "  warnings.warn(*warn_args, **warn_kwargs)\n",
      "/home/miracle/anaconda3/lib/python3.6/site-packages/sklearn/utils/deprecation.py:122: FutureWarning: You are accessing a training score ('split5_train_score'), which will not be available by default any more in 0.21. If you need training scores, please set return_train_score=True\n",
      "  warnings.warn(*warn_args, **warn_kwargs)\n",
      "/home/miracle/anaconda3/lib/python3.6/site-packages/sklearn/utils/deprecation.py:122: FutureWarning: You are accessing a training score ('split6_train_score'), which will not be available by default any more in 0.21. If you need training scores, please set return_train_score=True\n",
      "  warnings.warn(*warn_args, **warn_kwargs)\n",
      "/home/miracle/anaconda3/lib/python3.6/site-packages/sklearn/utils/deprecation.py:122: FutureWarning: You are accessing a training score ('split7_train_score'), which will not be available by default any more in 0.21. If you need training scores, please set return_train_score=True\n",
      "  warnings.warn(*warn_args, **warn_kwargs)\n",
      "/home/miracle/anaconda3/lib/python3.6/site-packages/sklearn/utils/deprecation.py:122: FutureWarning: You are accessing a training score ('split8_train_score'), which will not be available by default any more in 0.21. If you need training scores, please set return_train_score=True\n",
      "  warnings.warn(*warn_args, **warn_kwargs)\n",
      "/home/miracle/anaconda3/lib/python3.6/site-packages/sklearn/utils/deprecation.py:122: FutureWarning: You are accessing a training score ('split9_train_score'), which will not be available by default any more in 0.21. If you need training scores, please set return_train_score=True\n",
      "  warnings.warn(*warn_args, **warn_kwargs)\n",
      "/home/miracle/anaconda3/lib/python3.6/site-packages/sklearn/utils/deprecation.py:122: FutureWarning: You are accessing a training score ('std_train_score'), which will not be available by default any more in 0.21. If you need training scores, please set return_train_score=True\n",
      "  warnings.warn(*warn_args, **warn_kwargs)\n"
     ]
    },
    {
     "data": {
      "text/plain": [
       "{'mean_fit_time': array([ 0.00694191,  0.00581899,  0.0058378 ,  0.00580268,  0.00583014,\n",
       "         0.01057105,  0.01137676,  0.01049936,  0.01098273,  0.01061265,\n",
       "         0.02599819,  0.02662749,  0.02599199,  0.02491081,  0.02468433,\n",
       "         0.18968322,  0.16320429,  0.15379493,  0.16231928,  0.16825187,\n",
       "         1.43949192,  1.65461435,  1.44973238,  1.33782935,  1.43741727]),\n",
       " 'mean_score_time': array([ 0.00049522,  0.0004617 ,  0.00048628,  0.0004473 ,  0.00040066,\n",
       "         0.00045462,  0.00043571,  0.00046318,  0.00047548,  0.00046375,\n",
       "         0.00045702,  0.00044887,  0.00048411,  0.00053506,  0.00043464,\n",
       "         0.00041459,  0.00058794,  0.00045691,  0.00042522,  0.0004442 ,\n",
       "         0.00050886,  0.00046489,  0.00059521,  0.000543  ,  0.0004895 ]),\n",
       " 'mean_test_score': array([ 0.96925329,  0.96925329,  0.96925329,  0.96925329,  0.96925329,\n",
       "         0.96632504,  0.96632504,  0.96632504,  0.96632504,  0.96632504,\n",
       "         0.96486091,  0.96486091,  0.96486091,  0.96486091,  0.96486091,\n",
       "         0.96486091,  0.96486091,  0.96486091,  0.96486091,  0.96486091,\n",
       "         0.96339678,  0.96339678,  0.96339678,  0.96339678,  0.96339678]),\n",
       " 'mean_train_score': array([ 0.97185799,  0.97185799,  0.97185799,  0.97185799,  0.97185799,\n",
       "         0.97315906,  0.97315906,  0.97315906,  0.97315906,  0.97315906,\n",
       "         0.97364766,  0.97364766,  0.97364766,  0.97364766,  0.97364766,\n",
       "         0.9733222 ,  0.9733222 ,  0.9733222 ,  0.9733222 ,  0.9733222 ,\n",
       "         0.9733222 ,  0.9733222 ,  0.9733222 ,  0.9733222 ,  0.9733222 ]),\n",
       " 'param_C': masked_array(data = [0.1 0.1 0.1 0.1 0.1 1 1 1 1 1 10 10 10 10 10 100 100 100 100 100 1000 1000\n",
       "  1000 1000 1000],\n",
       "              mask = [False False False False False False False False False False False False\n",
       "  False False False False False False False False False False False False\n",
       "  False],\n",
       "        fill_value = ?),\n",
       " 'param_gamma': masked_array(data = [1 0.1 0.01 0.001 0.0001 1 0.1 0.01 0.001 0.0001 1 0.1 0.01 0.001 0.0001 1\n",
       "  0.1 0.01 0.001 0.0001 1 0.1 0.01 0.001 0.0001],\n",
       "              mask = [False False False False False False False False False False False False\n",
       "  False False False False False False False False False False False False\n",
       "  False],\n",
       "        fill_value = ?),\n",
       " 'param_kernel': masked_array(data = ['linear' 'linear' 'linear' 'linear' 'linear' 'linear' 'linear' 'linear'\n",
       "  'linear' 'linear' 'linear' 'linear' 'linear' 'linear' 'linear' 'linear'\n",
       "  'linear' 'linear' 'linear' 'linear' 'linear' 'linear' 'linear' 'linear'\n",
       "  'linear'],\n",
       "              mask = [False False False False False False False False False False False False\n",
       "  False False False False False False False False False False False False\n",
       "  False],\n",
       "        fill_value = ?),\n",
       " 'params': [{'C': 0.1, 'gamma': 1, 'kernel': 'linear'},\n",
       "  {'C': 0.1, 'gamma': 0.1, 'kernel': 'linear'},\n",
       "  {'C': 0.1, 'gamma': 0.01, 'kernel': 'linear'},\n",
       "  {'C': 0.1, 'gamma': 0.001, 'kernel': 'linear'},\n",
       "  {'C': 0.1, 'gamma': 0.0001, 'kernel': 'linear'},\n",
       "  {'C': 1, 'gamma': 1, 'kernel': 'linear'},\n",
       "  {'C': 1, 'gamma': 0.1, 'kernel': 'linear'},\n",
       "  {'C': 1, 'gamma': 0.01, 'kernel': 'linear'},\n",
       "  {'C': 1, 'gamma': 0.001, 'kernel': 'linear'},\n",
       "  {'C': 1, 'gamma': 0.0001, 'kernel': 'linear'},\n",
       "  {'C': 10, 'gamma': 1, 'kernel': 'linear'},\n",
       "  {'C': 10, 'gamma': 0.1, 'kernel': 'linear'},\n",
       "  {'C': 10, 'gamma': 0.01, 'kernel': 'linear'},\n",
       "  {'C': 10, 'gamma': 0.001, 'kernel': 'linear'},\n",
       "  {'C': 10, 'gamma': 0.0001, 'kernel': 'linear'},\n",
       "  {'C': 100, 'gamma': 1, 'kernel': 'linear'},\n",
       "  {'C': 100, 'gamma': 0.1, 'kernel': 'linear'},\n",
       "  {'C': 100, 'gamma': 0.01, 'kernel': 'linear'},\n",
       "  {'C': 100, 'gamma': 0.001, 'kernel': 'linear'},\n",
       "  {'C': 100, 'gamma': 0.0001, 'kernel': 'linear'},\n",
       "  {'C': 1000, 'gamma': 1, 'kernel': 'linear'},\n",
       "  {'C': 1000, 'gamma': 0.1, 'kernel': 'linear'},\n",
       "  {'C': 1000, 'gamma': 0.01, 'kernel': 'linear'},\n",
       "  {'C': 1000, 'gamma': 0.001, 'kernel': 'linear'},\n",
       "  {'C': 1000, 'gamma': 0.0001, 'kernel': 'linear'}],\n",
       " 'rank_test_score': array([ 1,  1,  1,  1,  1,  6,  6,  6,  6,  6, 11, 11, 11, 11, 11, 11, 11,\n",
       "        11, 11, 11, 21, 21, 21, 21, 21], dtype=int32),\n",
       " 'split0_test_score': array([ 0.94202899,  0.94202899,  0.94202899,  0.94202899,  0.94202899,\n",
       "         0.92753623,  0.92753623,  0.92753623,  0.92753623,  0.92753623,\n",
       "         0.92753623,  0.92753623,  0.92753623,  0.92753623,  0.92753623,\n",
       "         0.92753623,  0.92753623,  0.92753623,  0.92753623,  0.92753623,\n",
       "         0.92753623,  0.92753623,  0.92753623,  0.92753623,  0.92753623]),\n",
       " 'split0_train_score': array([ 0.97557003,  0.97557003,  0.97557003,  0.97557003,  0.97557003,\n",
       "         0.97882736,  0.97882736,  0.97882736,  0.97882736,  0.97882736,\n",
       "         0.97882736,  0.97882736,  0.97882736,  0.97882736,  0.97882736,\n",
       "         0.97882736,  0.97882736,  0.97882736,  0.97882736,  0.97882736,\n",
       "         0.97882736,  0.97882736,  0.97882736,  0.97882736,  0.97882736]),\n",
       " 'split1_test_score': array([ 0.97101449,  0.97101449,  0.97101449,  0.97101449,  0.97101449,\n",
       "         0.98550725,  0.98550725,  0.98550725,  0.98550725,  0.98550725,\n",
       "         0.97101449,  0.97101449,  0.97101449,  0.97101449,  0.97101449,\n",
       "         0.97101449,  0.97101449,  0.97101449,  0.97101449,  0.97101449,\n",
       "         0.97101449,  0.97101449,  0.97101449,  0.97101449,  0.97101449]),\n",
       " 'split1_train_score': array([ 0.97068404,  0.97068404,  0.97068404,  0.97068404,  0.97068404,\n",
       "         0.96905537,  0.96905537,  0.96905537,  0.96905537,  0.96905537,\n",
       "         0.9723127 ,  0.9723127 ,  0.9723127 ,  0.9723127 ,  0.9723127 ,\n",
       "         0.9723127 ,  0.9723127 ,  0.9723127 ,  0.9723127 ,  0.9723127 ,\n",
       "         0.9723127 ,  0.9723127 ,  0.9723127 ,  0.9723127 ,  0.9723127 ]),\n",
       " 'split2_test_score': array([ 0.95652174,  0.95652174,  0.95652174,  0.95652174,  0.95652174,\n",
       "         0.95652174,  0.95652174,  0.95652174,  0.95652174,  0.95652174,\n",
       "         0.94202899,  0.94202899,  0.94202899,  0.94202899,  0.94202899,\n",
       "         0.94202899,  0.94202899,  0.94202899,  0.94202899,  0.94202899,\n",
       "         0.94202899,  0.94202899,  0.94202899,  0.94202899,  0.94202899]),\n",
       " 'split2_train_score': array([ 0.97557003,  0.97557003,  0.97557003,  0.97557003,  0.97557003,\n",
       "         0.97557003,  0.97557003,  0.97557003,  0.97557003,  0.97557003,\n",
       "         0.97557003,  0.97557003,  0.97557003,  0.97557003,  0.97557003,\n",
       "         0.97394137,  0.97394137,  0.97394137,  0.97394137,  0.97394137,\n",
       "         0.97394137,  0.97394137,  0.97394137,  0.97394137,  0.97394137]),\n",
       " 'split3_test_score': array([ 0.94202899,  0.94202899,  0.94202899,  0.94202899,  0.94202899,\n",
       "         0.94202899,  0.94202899,  0.94202899,  0.94202899,  0.94202899,\n",
       "         0.94202899,  0.94202899,  0.94202899,  0.94202899,  0.94202899,\n",
       "         0.94202899,  0.94202899,  0.94202899,  0.94202899,  0.94202899,\n",
       "         0.94202899,  0.94202899,  0.94202899,  0.94202899,  0.94202899]),\n",
       " 'split3_train_score': array([ 0.97557003,  0.97557003,  0.97557003,  0.97557003,  0.97557003,\n",
       "         0.97557003,  0.97557003,  0.97557003,  0.97557003,  0.97557003,\n",
       "         0.9771987 ,  0.9771987 ,  0.9771987 ,  0.9771987 ,  0.9771987 ,\n",
       "         0.9771987 ,  0.9771987 ,  0.9771987 ,  0.9771987 ,  0.9771987 ,\n",
       "         0.9771987 ,  0.9771987 ,  0.9771987 ,  0.9771987 ,  0.9771987 ]),\n",
       " 'split4_test_score': array([ 0.98529412,  0.98529412,  0.98529412,  0.98529412,  0.98529412,\n",
       "         0.98529412,  0.98529412,  0.98529412,  0.98529412,  0.98529412,\n",
       "         0.98529412,  0.98529412,  0.98529412,  0.98529412,  0.98529412,\n",
       "         0.98529412,  0.98529412,  0.98529412,  0.98529412,  0.98529412,\n",
       "         0.98529412,  0.98529412,  0.98529412,  0.98529412,  0.98529412]),\n",
       " 'split4_train_score': array([ 0.96910569,  0.96910569,  0.96910569,  0.96910569,  0.96910569,\n",
       "         0.97073171,  0.97073171,  0.97073171,  0.97073171,  0.97073171,\n",
       "         0.97235772,  0.97235772,  0.97235772,  0.97235772,  0.97235772,\n",
       "         0.97073171,  0.97073171,  0.97073171,  0.97073171,  0.97073171,\n",
       "         0.97073171,  0.97073171,  0.97073171,  0.97073171,  0.97073171]),\n",
       " 'split5_test_score': array([ 0.97058824,  0.97058824,  0.97058824,  0.97058824,  0.97058824,\n",
       "         0.97058824,  0.97058824,  0.97058824,  0.97058824,  0.97058824,\n",
       "         0.97058824,  0.97058824,  0.97058824,  0.97058824,  0.97058824,\n",
       "         0.97058824,  0.97058824,  0.97058824,  0.97058824,  0.97058824,\n",
       "         0.97058824,  0.97058824,  0.97058824,  0.97058824,  0.97058824]),\n",
       " 'split5_train_score': array([ 0.97073171,  0.97073171,  0.97073171,  0.97073171,  0.97073171,\n",
       "         0.97073171,  0.97073171,  0.97073171,  0.97073171,  0.97073171,\n",
       "         0.97073171,  0.97073171,  0.97073171,  0.97073171,  0.97073171,\n",
       "         0.97073171,  0.97073171,  0.97073171,  0.97073171,  0.97073171,\n",
       "         0.97073171,  0.97073171,  0.97073171,  0.97073171,  0.97073171]),\n",
       " 'split6_test_score': array([ 0.97058824,  0.97058824,  0.97058824,  0.97058824,  0.97058824,\n",
       "         0.95588235,  0.95588235,  0.95588235,  0.95588235,  0.95588235,\n",
       "         0.97058824,  0.97058824,  0.97058824,  0.97058824,  0.97058824,\n",
       "         0.97058824,  0.97058824,  0.97058824,  0.97058824,  0.97058824,\n",
       "         0.95588235,  0.95588235,  0.95588235,  0.95588235,  0.95588235]),\n",
       " 'split6_train_score': array([ 0.97235772,  0.97235772,  0.97235772,  0.97235772,  0.97235772,\n",
       "         0.97560976,  0.97560976,  0.97560976,  0.97560976,  0.97560976,\n",
       "         0.97398374,  0.97398374,  0.97398374,  0.97398374,  0.97398374,\n",
       "         0.97398374,  0.97398374,  0.97398374,  0.97398374,  0.97398374,\n",
       "         0.97398374,  0.97398374,  0.97398374,  0.97398374,  0.97398374]),\n",
       " 'split7_test_score': array([ 0.98529412,  0.98529412,  0.98529412,  0.98529412,  0.98529412,\n",
       "         0.98529412,  0.98529412,  0.98529412,  0.98529412,  0.98529412,\n",
       "         0.98529412,  0.98529412,  0.98529412,  0.98529412,  0.98529412,\n",
       "         0.98529412,  0.98529412,  0.98529412,  0.98529412,  0.98529412,\n",
       "         0.98529412,  0.98529412,  0.98529412,  0.98529412,  0.98529412]),\n",
       " 'split7_train_score': array([ 0.96910569,  0.96910569,  0.96910569,  0.96910569,  0.96910569,\n",
       "         0.97073171,  0.97073171,  0.97073171,  0.97073171,  0.97073171,\n",
       "         0.97073171,  0.97073171,  0.97073171,  0.97073171,  0.97073171,\n",
       "         0.97073171,  0.97073171,  0.97073171,  0.97073171,  0.97073171,\n",
       "         0.97073171,  0.97073171,  0.97073171,  0.97073171,  0.97073171]),\n",
       " 'split8_test_score': array([ 0.98529412,  0.98529412,  0.98529412,  0.98529412,  0.98529412,\n",
       "         0.97058824,  0.97058824,  0.97058824,  0.97058824,  0.97058824,\n",
       "         0.97058824,  0.97058824,  0.97058824,  0.97058824,  0.97058824,\n",
       "         0.97058824,  0.97058824,  0.97058824,  0.97058824,  0.97058824,\n",
       "         0.97058824,  0.97058824,  0.97058824,  0.97058824,  0.97058824]),\n",
       " 'split8_train_score': array([ 0.96910569,  0.96910569,  0.96910569,  0.96910569,  0.96910569,\n",
       "         0.97398374,  0.97398374,  0.97398374,  0.97398374,  0.97398374,\n",
       "         0.97398374,  0.97398374,  0.97398374,  0.97398374,  0.97398374,\n",
       "         0.97398374,  0.97398374,  0.97398374,  0.97398374,  0.97398374,\n",
       "         0.97398374,  0.97398374,  0.97398374,  0.97398374,  0.97398374]),\n",
       " 'split9_test_score': array([ 0.98507463,  0.98507463,  0.98507463,  0.98507463,  0.98507463,\n",
       "         0.98507463,  0.98507463,  0.98507463,  0.98507463,  0.98507463,\n",
       "         0.98507463,  0.98507463,  0.98507463,  0.98507463,  0.98507463,\n",
       "         0.98507463,  0.98507463,  0.98507463,  0.98507463,  0.98507463,\n",
       "         0.98507463,  0.98507463,  0.98507463,  0.98507463,  0.98507463]),\n",
       " 'split9_train_score': array([ 0.97077922,  0.97077922,  0.97077922,  0.97077922,  0.97077922,\n",
       "         0.97077922,  0.97077922,  0.97077922,  0.97077922,  0.97077922,\n",
       "         0.97077922,  0.97077922,  0.97077922,  0.97077922,  0.97077922,\n",
       "         0.97077922,  0.97077922,  0.97077922,  0.97077922,  0.97077922,\n",
       "         0.97077922,  0.97077922,  0.97077922,  0.97077922,  0.97077922]),\n",
       " 'std_fit_time': array([  1.53537129e-03,   3.56903825e-04,   3.53083012e-04,\n",
       "          3.75106926e-04,   4.50102039e-04,   8.19589511e-04,\n",
       "          4.39885951e-04,   9.75712521e-04,   8.73638780e-04,\n",
       "          7.35949519e-04,   3.63376608e-03,   3.44023105e-03,\n",
       "          2.39780266e-03,   2.72737039e-03,   2.27335936e-03,\n",
       "          4.52631961e-02,   2.99008128e-02,   2.76149804e-02,\n",
       "          3.93891942e-02,   5.34662579e-02,   4.41854976e-01,\n",
       "          5.92096852e-01,   2.46186505e-01,   3.61710306e-01,\n",
       "          4.44479229e-01]),\n",
       " 'std_score_time': array([  9.10475229e-05,   8.73890608e-05,   1.93460075e-04,\n",
       "          1.44979217e-04,   4.92248920e-05,   5.83164047e-05,\n",
       "          3.01005227e-05,   1.06080785e-04,   7.69131869e-05,\n",
       "          1.18203327e-04,   7.52469168e-05,   6.58206339e-05,\n",
       "          1.01629831e-04,   1.57486934e-04,   4.88300807e-05,\n",
       "          1.55676378e-05,   1.61815201e-04,   6.12925155e-05,\n",
       "          1.73109785e-05,   5.14947097e-05,   1.04512494e-04,\n",
       "          6.45047579e-05,   2.64118812e-04,   1.91412445e-04,\n",
       "          1.12290618e-04]),\n",
       " 'std_test_score': array([ 0.01637693,  0.01637693,  0.01637693,  0.01637693,  0.01637693,\n",
       "         0.01947117,  0.01947117,  0.01947117,  0.01947117,  0.01947117,\n",
       "         0.01956808,  0.01956808,  0.01956808,  0.01956808,  0.01956808,\n",
       "         0.01956808,  0.01956808,  0.01956808,  0.01956808,  0.01956808,\n",
       "         0.01963483,  0.01963483,  0.01963483,  0.01963483,  0.01963483]),\n",
       " 'std_train_score': array([ 0.00261005,  0.00261005,  0.00261005,  0.00261005,  0.00261005,\n",
       "         0.00301034,  0.00301034,  0.00301034,  0.00301034,  0.00301034,\n",
       "         0.00268403,  0.00268403,  0.00268403,  0.00268403,  0.00268403,\n",
       "         0.00272416,  0.00272416,  0.00272416,  0.00272416,  0.00272416,\n",
       "         0.00272416,  0.00272416,  0.00272416,  0.00272416,  0.00272416])}"
      ]
     },
     "execution_count": 114,
     "metadata": {},
     "output_type": "execute_result"
    }
   ],
   "source": [
    "grid.cv_results_"
   ]
  },
  {
   "cell_type": "code",
   "execution_count": 120,
   "metadata": {},
   "outputs": [
    {
     "data": {
      "text/plain": [
       "0.96573938506588575"
      ]
     },
     "execution_count": 120,
     "metadata": {},
     "output_type": "execute_result"
    }
   ],
   "source": [
    "np.average(grid.cv_results_['mean_test_score'])"
   ]
  },
  {
   "cell_type": "code",
   "execution_count": 121,
   "metadata": {},
   "outputs": [
    {
     "data": {
      "text/plain": [
       "0.0019860409906662557"
      ]
     },
     "execution_count": 121,
     "metadata": {},
     "output_type": "execute_result"
    }
   ],
   "source": [
    "np.std(grid.cv_results_['mean_test_score'])"
   ]
  },
  {
   "cell_type": "code",
   "execution_count": 122,
   "metadata": {},
   "outputs": [
    {
     "data": {
      "text/plain": [
       "0.96925329428989748"
      ]
     },
     "execution_count": 122,
     "metadata": {},
     "output_type": "execute_result"
    }
   ],
   "source": [
    "grid.best_score_"
   ]
  },
  {
   "cell_type": "code",
   "execution_count": 123,
   "metadata": {},
   "outputs": [
    {
     "data": {
      "text/plain": [
       "SVC(C=0.1, cache_size=200, class_weight=None, coef0=0.0,\n",
       "  decision_function_shape='ovr', degree=3, gamma=1, kernel='linear',\n",
       "  max_iter=-1, probability=True, random_state=None, shrinking=True,\n",
       "  tol=0.001, verbose=False)"
      ]
     },
     "execution_count": 123,
     "metadata": {},
     "output_type": "execute_result"
    }
   ],
   "source": [
    "grid.best_estimator_"
   ]
  },
  {
   "cell_type": "code",
   "execution_count": 124,
   "metadata": {},
   "outputs": [
    {
     "data": {
      "text/plain": [
       "{'C': 0.1, 'gamma': 1, 'kernel': 'linear'}"
      ]
     },
     "execution_count": 124,
     "metadata": {},
     "output_type": "execute_result"
    }
   ],
   "source": [
    "grid.best_params_"
   ]
  },
  {
   "cell_type": "code",
   "execution_count": 118,
   "metadata": {},
   "outputs": [],
   "source": [
    "y_pred = grid.best_estimator_.predict(X_test)"
   ]
  },
  {
   "cell_type": "code",
   "execution_count": 119,
   "metadata": {},
   "outputs": [
    {
     "name": "stdout",
     "output_type": "stream",
     "text": [
      "             precision    recall  f1-score   support\n",
      "\n",
      "          2       0.98      1.00      0.99       130\n",
      "          4       1.00      0.97      0.99        75\n",
      "\n",
      "avg / total       0.99      0.99      0.99       205\n",
      "\n"
     ]
    }
   ],
   "source": [
    "print(metrics.classification_report(y_test,y_pred))"
   ]
  },
  {
   "cell_type": "code",
   "execution_count": 125,
   "metadata": {},
   "outputs": [
    {
     "data": {
      "text/plain": [
       "array([[ 0.46895433,  0.05851666,  0.40483161,  0.16978133,  0.23709585,\n",
       "         0.58587217,  0.37222406,  0.19411214,  0.29495804]])"
      ]
     },
     "execution_count": 125,
     "metadata": {},
     "output_type": "execute_result"
    }
   ],
   "source": [
    "grid.best_estimator_.coef_"
   ]
  },
  {
   "cell_type": "markdown",
   "metadata": {},
   "source": [
    "### SVM with balanced classes"
   ]
  },
  {
   "cell_type": "code",
   "execution_count": 17,
   "metadata": {},
   "outputs": [],
   "source": [
    "idx_2 = np.where(y == 2)[0]\n",
    "idx_4 = np.where(y == 4)[0]"
   ]
  },
  {
   "cell_type": "code",
   "execution_count": 18,
   "metadata": {},
   "outputs": [
    {
     "name": "stdout",
     "output_type": "stream",
     "text": [
      "444\n",
      "239\n"
     ]
    }
   ],
   "source": [
    "print(len(idx_2))\n",
    "print(len(idx_4))"
   ]
  },
  {
   "cell_type": "code",
   "execution_count": 19,
   "metadata": {},
   "outputs": [],
   "source": [
    "X_2 = X[idx_2,:]\n",
    "X_4 = X[idx_4,:]"
   ]
  },
  {
   "cell_type": "code",
   "execution_count": 20,
   "metadata": {},
   "outputs": [],
   "source": [
    "idx_2_new = np.random.choice(range(len(idx_2)),size = len(idx_4),replace=False)"
   ]
  },
  {
   "cell_type": "code",
   "execution_count": 23,
   "metadata": {},
   "outputs": [],
   "source": [
    "X1 = np.vstack((X_2[idx_2_new,:],X_4))\n",
    "y = np.hstack((np.ones(len(idx_2_new))*2,np.ones(len(idx_2_new))*4))\n",
    "y = np.array(y,dtype=int)"
   ]
  },
  {
   "cell_type": "code",
   "execution_count": 89,
   "metadata": {},
   "outputs": [],
   "source": [
    "Xy = np.hstack((X1,y.reshape(-1,1)))\n",
    "np.random.shuffle(Xy)\n",
    "X2 = Xy[:,:-2]\n",
    "# X2 = Xy[:,:-1]\n",
    "y2 = Xy[:,-1]\n",
    "y2 = np.array(y2,dtype=int)"
   ]
  },
  {
   "cell_type": "code",
   "execution_count": 98,
   "metadata": {},
   "outputs": [],
   "source": [
    "y2[y2==2] = 0\n",
    "y2[y2==4] = 1"
   ]
  },
  {
   "cell_type": "code",
   "execution_count": 90,
   "metadata": {},
   "outputs": [
    {
     "name": "stderr",
     "output_type": "stream",
     "text": [
      "/home/miracle/anaconda3/lib/python3.6/site-packages/sklearn/utils/validation.py:475: DataConversionWarning: Data with input dtype int64 was converted to float64 by StandardScaler.\n",
      "  warnings.warn(msg, DataConversionWarning)\n"
     ]
    }
   ],
   "source": [
    "scaler2 = StandardScaler()\n",
    "scaler2.fit(X2)\n",
    "X2_norm = scaler2.transform(X2)"
   ]
  },
  {
   "cell_type": "code",
   "execution_count": 117,
   "metadata": {},
   "outputs": [],
   "source": [
    "X2_train,X2_test,y2_train,y2_test = train_test_split(X2_norm,y2,test_size = 0.3, random_state = 42)"
   ]
  },
  {
   "cell_type": "code",
   "execution_count": 101,
   "metadata": {},
   "outputs": [],
   "source": [
    "param_grid = {'C': [0.1,1, 10, 100], 'gamma': [1,0.1,0.01,0.001], 'kernel': ['linear']} \n",
    "grid2 = GridSearchCV(SVC(probability=True),param_grid,verbose=1,cv = 10,return_train_score=True,scoring='f1')"
   ]
  },
  {
   "cell_type": "code",
   "execution_count": 102,
   "metadata": {},
   "outputs": [
    {
     "name": "stdout",
     "output_type": "stream",
     "text": [
      "Fitting 10 folds for each of 16 candidates, totalling 160 fits\n"
     ]
    },
    {
     "name": "stderr",
     "output_type": "stream",
     "text": [
      "[Parallel(n_jobs=1)]: Done 160 out of 160 | elapsed:    2.2s finished\n"
     ]
    },
    {
     "data": {
      "text/plain": [
       "GridSearchCV(cv=10, error_score='raise',\n",
       "       estimator=SVC(C=1.0, cache_size=200, class_weight=None, coef0=0.0,\n",
       "  decision_function_shape='ovr', degree=3, gamma='auto', kernel='rbf',\n",
       "  max_iter=-1, probability=True, random_state=None, shrinking=True,\n",
       "  tol=0.001, verbose=False),\n",
       "       fit_params=None, iid=True, n_jobs=1,\n",
       "       param_grid={'C': [0.1, 1, 10, 100], 'gamma': [1, 0.1, 0.01, 0.001], 'kernel': ['linear']},\n",
       "       pre_dispatch='2*n_jobs', refit=True, return_train_score=True,\n",
       "       scoring='f1', verbose=1)"
      ]
     },
     "execution_count": 102,
     "metadata": {},
     "output_type": "execute_result"
    }
   ],
   "source": [
    "grid2.fit(X2_train,y2_train)"
   ]
  },
  {
   "cell_type": "code",
   "execution_count": 59,
   "metadata": {},
   "outputs": [
    {
     "data": {
      "text/plain": [
       "SVC(C=0.1, cache_size=200, class_weight=None, coef0=0.0,\n",
       "  decision_function_shape='ovr', degree=3, gamma=1, kernel='linear',\n",
       "  max_iter=-1, probability=True, random_state=None, shrinking=True,\n",
       "  tol=0.001, verbose=False)"
      ]
     },
     "execution_count": 59,
     "metadata": {},
     "output_type": "execute_result"
    }
   ],
   "source": [
    "grid2.best_estimator_"
   ]
  },
  {
   "cell_type": "code",
   "execution_count": 211,
   "metadata": {},
   "outputs": [
    {
     "name": "stdout",
     "output_type": "stream",
     "text": [
      "Average F1 Score: 0.961921583885\n"
     ]
    }
   ],
   "source": [
    "print('Average F1 Score:',np.average(grid2.cv_results_['mean_test_score']))"
   ]
  },
  {
   "cell_type": "code",
   "execution_count": 212,
   "metadata": {},
   "outputs": [
    {
     "name": "stdout",
     "output_type": "stream",
     "text": [
      "STD F1 Score 0.0241130055817\n"
     ]
    }
   ],
   "source": [
    "print('STD F1 Score',np.average(grid2.cv_results_['std_test_score']))"
   ]
  },
  {
   "cell_type": "code",
   "execution_count": 106,
   "metadata": {},
   "outputs": [
    {
     "data": {
      "text/plain": [
       "0.96878501062391342"
      ]
     },
     "execution_count": 106,
     "metadata": {},
     "output_type": "execute_result"
    }
   ],
   "source": [
    "grid2.best_score_"
   ]
  },
  {
   "cell_type": "code",
   "execution_count": 114,
   "metadata": {},
   "outputs": [
    {
     "data": {
      "text/plain": [
       "<bound method BaseEstimator.get_params of GridSearchCV(cv=10, error_score='raise',\n",
       "       estimator=SVC(C=1.0, cache_size=200, class_weight=None, coef0=0.0,\n",
       "  decision_function_shape='ovr', degree=3, gamma='auto', kernel='rbf',\n",
       "  max_iter=-1, probability=True, random_state=None, shrinking=True,\n",
       "  tol=0.001, verbose=False),\n",
       "       fit_params=None, iid=True, n_jobs=1,\n",
       "       param_grid={'C': [0.1, 1, 10, 100], 'gamma': [1, 0.1, 0.01, 0.001], 'kernel': ['linear']},\n",
       "       pre_dispatch='2*n_jobs', refit=True, return_train_score=True,\n",
       "       scoring='f1', verbose=1)>"
      ]
     },
     "execution_count": 114,
     "metadata": {},
     "output_type": "execute_result"
    }
   ],
   "source": [
    "grid2.get_params"
   ]
  },
  {
   "cell_type": "code",
   "execution_count": 119,
   "metadata": {},
   "outputs": [
    {
     "data": {
      "text/plain": [
       "array([ 0.85714286,  0.93333333,  1.        ,  1.        ,  1.        ,\n",
       "        0.92307692,  1.        ,  1.        ,  1.        ,  0.85714286])"
      ]
     },
     "execution_count": 119,
     "metadata": {},
     "output_type": "execute_result"
    }
   ],
   "source": [
    "cross_val_score(grid2.best_estimator_, X2_test, y2_test, cv=10,scoring = 'f1')"
   ]
  },
  {
   "cell_type": "code",
   "execution_count": 213,
   "metadata": {},
   "outputs": [
    {
     "name": "stdout",
     "output_type": "stream",
     "text": [
      "Average F1 Score on validation set 0.95706959707\n"
     ]
    }
   ],
   "source": [
    "print('Average F1 Score on validation set',np.average(cross_val_score(grid2.best_estimator_, X2_test, y2_test, cv=10,scoring = 'f1')))"
   ]
  },
  {
   "cell_type": "code",
   "execution_count": 214,
   "metadata": {},
   "outputs": [
    {
     "name": "stdout",
     "output_type": "stream",
     "text": [
      "STD F1 Score on validation set 0.0572256374195\n"
     ]
    }
   ],
   "source": [
    "print('STD F1 Score on validation set',np.std(cross_val_score(grid2.best_estimator_, X2_test, y2_test, cv=10,scoring = 'f1')))"
   ]
  },
  {
   "cell_type": "code",
   "execution_count": 217,
   "metadata": {},
   "outputs": [
    {
     "name": "stdout",
     "output_type": "stream",
     "text": [
      "AUC on validation data set 0.997959183673\n"
     ]
    }
   ],
   "source": [
    "print('AUC on validation data set',np.average(cross_val_score(grid2.best_estimator_, X2_test, y2_test, cv=10,scoring = 'roc_auc')))"
   ]
  },
  {
   "cell_type": "markdown",
   "metadata": {},
   "source": [
    "### Feature importance"
   ]
  },
  {
   "cell_type": "code",
   "execution_count": 112,
   "metadata": {},
   "outputs": [
    {
     "data": {
      "text/plain": [
       "(8,)"
      ]
     },
     "execution_count": 112,
     "metadata": {},
     "output_type": "execute_result"
    }
   ],
   "source": [
    "feature_names = df1.columns[1:-2]\n",
    "feature_names.shape"
   ]
  },
  {
   "cell_type": "code",
   "execution_count": 126,
   "metadata": {},
   "outputs": [],
   "source": [
    "df_feature = pd.DataFrame(feature_names,columns=['feature'])"
   ]
  },
  {
   "cell_type": "code",
   "execution_count": 128,
   "metadata": {},
   "outputs": [],
   "source": [
    "df_feature['weight'] = grid2.best_estimator_.coef_[0]"
   ]
  },
  {
   "cell_type": "code",
   "execution_count": 133,
   "metadata": {},
   "outputs": [],
   "source": [
    "df_feature = df_feature.sort_values(by=['weight'],ascending=False)"
   ]
  },
  {
   "cell_type": "code",
   "execution_count": 150,
   "metadata": {},
   "outputs": [
    {
     "data": {
      "image/png": "[encoded data removed]",
      "text/plain": [
       "<matplotlib.figure.Figure at 0x7f89079c6ef0>"
      ]
     },
     "metadata": {},
     "output_type": "display_data"
    }
   ],
   "source": [
    "sns.barplot(x = 'weight',y = 'feature',data = df_feature)\n",
    "sns.set(font_scale=1.5)"
   ]
  },
  {
   "cell_type": "code",
   "execution_count": null,
   "metadata": {},
   "outputs": [],
   "source": []
  },
  {
   "cell_type": "code",
   "execution_count": null,
   "metadata": {},
   "outputs": [],
   "source": []
  }
 ],
 "metadata": {
  "kernelspec": {
   "display_name": "Python 3",
   "language": "python",
   "name": "python3"
  },
  "language_info": {
   "codemirror_mode": {
    "name": "ipython",
    "version": 3
   },
   "file_extension": ".py",
   "mimetype": "text/x-python",
   "name": "python",
   "nbconvert_exporter": "python",
   "pygments_lexer": "ipython3",
   "version": "3.6.4"
  }
 },
 "nbformat": 4,
 "nbformat_minor": 2
}
